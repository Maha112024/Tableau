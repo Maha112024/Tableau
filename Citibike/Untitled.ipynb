{
 "cells": [
  {
   "cell_type": "code",
   "execution_count": 1,
   "id": "574e9b34-04f7-4311-ae5d-505ff8dcae94",
   "metadata": {},
   "outputs": [
    {
     "name": "stdout",
     "output_type": "stream",
     "text": [
      "['C:\\\\Users\\\\maha dell\\\\Downloads\\\\Citibike\\\\combined_file.csv', 'C:\\\\Users\\\\maha dell\\\\Downloads\\\\Citibike\\\\JC-202205-citibike-tripdata.csv', 'C:\\\\Users\\\\maha dell\\\\Downloads\\\\Citibike\\\\JC-202206-citibike-tripdata.csv', 'C:\\\\Users\\\\maha dell\\\\Downloads\\\\Citibike\\\\JC-202207-citbike-tripdata.csv', 'C:\\\\Users\\\\maha dell\\\\Downloads\\\\Citibike\\\\JC-202208-citibike-tripdata.csv']\n",
      "Data has been cleaned and saved.\n"
     ]
    }
   ],
   "source": [
    "import pandas as pd\n",
    "import glob\n",
    "\n",
    "# Update this to your absolute path\n",
    "file_paths = glob.glob(r'C:\\Users\\maha dell\\Downloads\\Citibike\\*.csv')\n",
    "\n",
    "# Debugging: print file paths to confirm\n",
    "print(file_paths)\n",
    "\n",
    "# Check if any files were found\n",
    "if file_paths:\n",
    "    # Read and concatenate all CSVs into a single DataFrame\n",
    "    combined_df = pd.concat([pd.read_csv(file) for file in file_paths], ignore_index=True)\n",
    "    \n",
    "    # Data Cleaning Steps:\n",
    "    \n",
    "    # Remove duplicate rows\n",
    "    combined_df = combined_df.drop_duplicates()\n",
    "    \n",
    "    # Handle missing values (example: fill with a placeholder or drop rows)\n",
    "    # You can use fillna() to fill missing values, or dropna() to drop rows with NaN\n",
    "    combined_df = combined_df.fillna('Unknown')  # Fills missing values with 'Unknown' (or change to suit your needs)\n",
    "    \n",
    "    # Ensure columns have consistent names (remove leading/trailing spaces)\n",
    "    combined_df.columns = combined_df.columns.str.strip()\n",
    "\n",
    "    # Convert data types if necessary (e.g., converting a column to datetime)\n",
    "    # combined_df['your_column'] = pd.to_datetime(combined_df['your_column'], errors='coerce')\n",
    "    \n",
    "    # Optionally, filter or transform specific columns as needed\n",
    "    # Example: combined_df['your_column'] = combined_df['your_column'].str.lower()\n",
    "\n",
    "    # Save the cleaned combined data to a new CSV file\n",
    "    combined_df.to_csv('cleaned_combined_file.csv', index=False)\n",
    "    print(\"Data has been cleaned and saved.\")\n",
    "else:\n",
    "    print(\"No CSV files found. Please check the file path.\")\n",
    "\n"
   ]
  }
 ],
 "metadata": {
  "kernelspec": {
   "display_name": "Python 3 (ipykernel)",
   "language": "python",
   "name": "python3"
  },
  "language_info": {
   "codemirror_mode": {
    "name": "ipython",
    "version": 3
   },
   "file_extension": ".py",
   "mimetype": "text/x-python",
   "name": "python",
   "nbconvert_exporter": "python",
   "pygments_lexer": "ipython3",
   "version": "3.12.4"
  }
 },
 "nbformat": 4,
 "nbformat_minor": 5
}
